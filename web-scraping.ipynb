{
 "cells": [
  {
   "cell_type": "markdown",
   "metadata": {},
   "source": [
    "# Web Mining and Applied NLP (44-620)\n",
    "\n",
    "## Web Scraping and NLP with Requests, BeautifulSoup, and spaCy\n",
    "\n",
    "### Student Name: Tesfamariam \n",
    "\n",
    "### https://github.com/Tesfamariam100?tab=repositories\n",
    "\n",
    "### Date: Dec 03 2024\n",
    "\n",
    "Perform the tasks described in the Markdown cells below.  When you have completed the assignment make sure your code cells have all been run (and have output beneath them) and ensure you have committed and pushed ALL of your changes to your assignment repository.\n",
    "\n",
    "Every question that requires you to write code will have a code cell underneath it; you may either write your entire solution in that cell or write it in a python file (`.py`), then import and run the appropriate code to answer the question."
   ]
  },
  {
   "cell_type": "code",
   "execution_count": 32,
   "metadata": {},
   "outputs": [
    {
     "name": "stdout",
     "output_type": "stream",
     "text": [
      "spaCy and the language model are successfully installed!\n"
     ]
    }
   ],
   "source": [
    "import spacy\n",
    "nlp = spacy.load(\"en_core_web_sm\")\n",
    "print(\"spaCy and the language model are successfully installed!\")\n"
   ]
  },
  {
   "cell_type": "code",
   "execution_count": 36,
   "metadata": {},
   "outputs": [],
   "source": [
    "# Web scraping\n",
    "from bs4 import BeautifulSoup  # For parsing HTML and XML\n",
    "import requests                # For sending HTTP requests\n",
    "\n",
    "# HTML parsing\n",
    "import html5lib                # Used as a parser with BeautifulSoup\n",
    "\n",
    "# Jupyter Notebook kernel\n",
    "import ipykernel               # Required for Jupyter Notebooks (implicitly used)\n",
    "\n",
    "# Data visualization\n",
    "import matplotlib.pyplot as plt  # For creating visualizations\n",
    "\n",
    "# Natural Language Processing (NLP)\n",
    "import spacy                   # For advanced NLP tasks\n",
    "from spacytextblob.spacytextblob import SpacyTextBlob  # For sentiment analysis"
   ]
  },
  {
   "cell_type": "markdown",
   "metadata": {},
   "source": [
    "### Q#1. \n",
    "##### *Write code that extracts the article html from https://web.archive.org/web/20210327165005/https://hackaday.com/2021/03/22/how-laser-headlights-work/ and dumps it to a .pkl (or other appropriate file)*"
   ]
  },
  {
   "cell_type": "code",
   "execution_count": 29,
   "metadata": {},
   "outputs": [
    {
     "name": "stdout",
     "output_type": "stream",
     "text": [
      "Article HTML successfully saved to 'article.pkl'\n"
     ]
    }
   ],
   "source": [
    "import requests\n",
    "from bs4 import BeautifulSoup\n",
    "import pickle\n",
    "\n",
    "# Step 1: Fetch the webpage\n",
    "url = \"https://web.archive.org/web/20210327165005/https://hackaday.com/2021/03/22/how-laser-headlights-work/\"\n",
    "response = requests.get(url)\n",
    "\n",
    "# Step 2: Check if the request was successful\n",
    "if response.status_code == 200:\n",
    "    # Step 3: Parse the HTML content\n",
    "    soup = BeautifulSoup(response.text, 'html.parser')\n",
    "    \n",
    "    # Step 4: Extract the article's HTML content\n",
    "    article_html = soup.find('article')  # Assuming the content is within <article> tags\n",
    "    if article_html:\n",
    "        article_html_str = str(article_html)\n",
    "        \n",
    "        # Step 5: Save the extracted HTML to a .pkl file\n",
    "        with open(\"article.pkl\", \"wb\") as file:\n",
    "            pickle.dump(article_html_str, file)\n",
    "        \n",
    "        print(\"Article HTML successfully saved to 'article.pkl'\")\n",
    "    else:\n",
    "        print(\"Could not find <article> tags in the HTML.\")\n",
    "else:\n",
    "    print(f\"Failed to fetch the webpage. Status code: {response.status_code}\")\n"
   ]
  },
  {
   "cell_type": "markdown",
   "metadata": {},
   "source": [
    "### Q#2. \n",
    "##### *Read in your article's html source from the file you created in question 1 and print it's text (use `.get_text()`)*"
   ]
  },
  {
   "cell_type": "code",
   "execution_count": 30,
   "metadata": {},
   "outputs": [
    {
     "name": "stdout",
     "output_type": "stream",
     "text": [
      "\n",
      "\n",
      "How Laser Headlights Work\n",
      "\n",
      "\n",
      "                130 Comments            \n",
      "\n",
      "by:\n",
      "Lewin Day\n",
      "\n",
      "\n",
      "\n",
      "March 22, 2021\n",
      "\n",
      "\n",
      "\n",
      "\n",
      "\n",
      "\n",
      "\n",
      "\n",
      "When we think about the onward march of automotive technology, headlights aren’t usually the first thing that come to mind. Engines, fuel efficiency, and the switch to electric power are all more front of mind. However, that doesn’t mean there aren’t thousands of engineers around the world working to improve the state of the art in automotive lighting day in, day out.\n",
      "Sealed beam headlights gave way to more modern designs once regulations loosened up, while bulbs moved from simple halogens to xenon HIDs and, more recently, LEDs. Now, a new technology is on the scene, with lasers!\n",
      "\n",
      "Laser Headlights?!\n",
      "BWM’s prototype laser headlight assemblies undergoing testing.\n",
      "The first image brought to mind by the phrase “laser headlights” is that of laser beams firing out the front of an automobile. Obviously, coherent beams of monochromatic light would make for poor illumination outside of a very specific spot quite some distance away. Thankfully for our eyes, laser headlights don’t work in this way at all.\n",
      "Instead, laser headlights consist of one or more solid state laser diodes mounted inside the headlight. These blue lasers are fired at a yellow phosphor, similar to that used in white LEDs. This produces a powerful, vibrant white light that can then be bounced off reflectors and out of the headlights towards the road. Laser headlights built in this way have several benefits. They’re more energy efficient than LEDs that put out the same amount of light, while also being more space efficient, too.\n",
      "BWM’s futuristic i8 was one of the first vehicles to ship with laser headlight technology.\n",
      "Laser headlights are still a nascent technology, thus far only appearing in a few BMW, Audi, and other select vehicles. BMW’s technology was developed in partnership with lighting experts OSRAM. In practice, a regular LED low-beam lamp is used, with the laser used to create an incredibly bright and focused spot, used for high-beams. This can provide illumination out to 600 meters ahead of the vehicle, double that of conventional LED high beams. The lights use indium gallium nitride diode lasers that were originally used in projectors, with power levels above 1 watt. One of the challenges in implementing such technology in an automotive environment is the need for it to operate at temperature extremes. While research lasers and laser pointers may primarily be used at typical room temperatures, automotive headlights must be able to withstand everything from 40 degrees below zero up to 50 degrees C. Thankfully, the laser’s high efficiency means it doesn’t have huge heat output of its own to further complicate things. Other engineering challenges involve tailoring the optics package for the rough-and-tumble, high vibration environment found in the automotive application. It’s also important to ensure, as with any such device, that the end user can’t be exposed to harmful laser radiation in the event of accident or malfunction.\n",
      "Tearing Down the Laser Headlight\n",
      "A marketing image showing the construction of an aftermarket LED/laser headlight. We’d take the laser power with a grain of salt — it’s difficult to imagine a 10 W laser shining directly on some small LEDs without melting a hole through the board in short order.\n",
      "An aftermarket has sprung up too, with delightfully innovative designs. Combined laser/LED headlights are readily available on Alibaba, designed as a drop in replacement for projector lamps on existing vehicles. These often use an LED low-beam, and a combined LED/laser high beam, where the laser diode shoots directly at the LED phosphor to excite it further, rather than using its own. These units often also come with fan cooling to keep the laser and LEDs below their maximum operational temperature. Such developments are exciting, though it’s important to be wary of the performance of unknown aftermarket headlights. Many aftermarket LED headlight “upgrades” fail to pass muster when it comes to real-world performance, and there’s no reason to believe hybrid LED/laser designs will be any different. We’d love to pass a selection of these parts through a full IIHS test protocol, but that’s sadly beyond the scope (and budget!) of this article.\n",
      "However, [mikeselectricstuff] has happened to lay his hands on both the BMW and aftermarket parts, tearing them all down in his workshop to see what makes them tick. The differences are multitude when laid bare on the bench. The AliExpress part is relatively simple, wired up no differently from a regular headlight. Interestingly, however, the laser high-beam circuit runs all the time in these parts. To prevent blinding other road users, a shutter is kept in place to block the light, which is moved out of the way with a solenoid when the driver turns on the high beam switch.\n",
      "Where the aftermarket part is a little out of left field, the BMW design is another thing entirely. The cutting-edge headlights are hooked up with multiple connectors and over 30 conductors, with much of the driver electronics living in an external controller. Much of this is to drive the various LEDs and stepper motors for slewing the headlights when steering. However, the laser assembly brings its own complexities. Twin light sensors are built inside to monitor the laser beam, and a special metal blocking arm sits directly in front of the diode, presumably to stop the laser light leaving the headlight in the event the phosphor coating burns through. It’s truly wild to get a look inside a modern luxury car’s headlight and see just how far we’ve come from the old days of simple sealed beams.\n",
      "Cost Versus Performance\n",
      "Despite the efficiency gains available, the technology remains expensive. Powerful laser diodes don’t come cheap, after all. However, as the technology trickles down to lower-end models, it’s likely that we could see economies of scale change that for the better. Indeed, if national authorities begin to demand higher performance headlights as standard, we could see laser headlights become the norm, rather than an expensive luxury. The technology could naturally be applied to home and commercial lighting, too — though we suspect the potential gains are limited enough that LED lighting will remain the norm for some time to come.\n",
      "The high light output of laser headlights in a compact package allows engineers greater freedom when designing the front-end of a car.\n",
      "As it currently stands, much of the appeal of the new technology is about the packaging benefits, which allow automotive designers greater freedom around the headlight area. Such concerns are less of a factor when it comes to light fittings in the home or office, or indeed, on lower-end automobiles. Regardless, it’s an exciting new application for lasers and one we’ll be sure to see more of in the future.\n",
      " \n",
      "\n",
      "\n",
      "\n",
      "\n",
      " \n",
      "\n",
      "\n",
      "\n",
      "\n",
      "\n",
      "\n",
      "\n",
      "\n",
      "\n",
      "\n",
      "\n",
      "\n",
      "\n",
      "\n",
      "\n",
      "\n",
      "\n",
      "\n",
      "\n",
      "Posted in car hacks, Engineering, Featured, Laser Hacks, SliderTagged laser, laser headlight, laser headlights, light \n",
      "\n"
     ]
    }
   ],
   "source": [
    "import pickle\n",
    "from bs4 import BeautifulSoup\n",
    "\n",
    "# Step 1: Read the HTML content from the .pkl file\n",
    "with open(\"article.pkl\", \"rb\") as file:\n",
    "    article_html_str = pickle.load(file)\n",
    "\n",
    "# Step 2: Parse the HTML content\n",
    "soup = BeautifulSoup(article_html_str, 'html.parser')\n",
    "\n",
    "# Step 3: Extract and print the text content\n",
    "article_text = soup.get_text()\n",
    "print(article_text)"
   ]
  },
  {
   "cell_type": "markdown",
   "metadata": {},
   "source": [
    "### Q#3. \n",
    "##### *Load the article text into a trained `spaCy` pipeline, and determine the 5 most frequent tokens (converted to lower case).  Print the common tokens with an appropriate label.  Additionally, print the tokens their frequencies (with appropriate labels). Make sure to remove things we don't care about (punctuation, stopwords, whitespace).*"
   ]
  },
  {
   "cell_type": "code",
   "execution_count": 37,
   "metadata": {},
   "outputs": [
    {
     "name": "stdout",
     "output_type": "stream",
     "text": [
      "Top 5 Most Frequent Tokens:\n",
      "Token: laser, Frequency: 35\n",
      "Token: headlights, Frequency: 19\n",
      "Token: headlight, Frequency: 11\n",
      "Token: technology, Frequency: 10\n",
      "Token: led, Frequency: 10\n"
     ]
    }
   ],
   "source": [
    "import pickle\n",
    "from collections import Counter\n",
    "import spacy\n",
    "\n",
    "# Step 1: Load the article's plain text\n",
    "with open(\"article.pkl\", \"rb\") as file:\n",
    "    article_html_str = pickle.load(file)\n",
    "\n",
    "# Parse the HTML with BeautifulSoup to extract text\n",
    "from bs4 import BeautifulSoup\n",
    "soup = BeautifulSoup(article_html_str, 'html.parser')\n",
    "article_text = soup.get_text()\n",
    "\n",
    "# Step 2: Load a trained spaCy pipeline\n",
    "nlp = spacy.load(\"en_core_web_sm\")  # Load the spaCy English pipeline\n",
    "\n",
    "# Step 3: Process the text\n",
    "doc = nlp(article_text)\n",
    "\n",
    "# Step 4: Filter tokens\n",
    "filtered_tokens = [\n",
    "    token.text.lower() for token in doc\n",
    "    if not token.is_stop                # Remove stopwords\n",
    "    and not token.is_punct              # Remove punctuation\n",
    "    and not token.is_space              # Remove whitespace\n",
    "]\n",
    "\n",
    "# Step 5: Count token frequencies\n",
    "token_counts = Counter(filtered_tokens)\n",
    "\n",
    "# Step 6: Get the 5 most common tokens\n",
    "most_common_tokens = token_counts.most_common(5)\n",
    "\n",
    "# Step 7: Print results\n",
    "print(\"Top 5 Most Frequent Tokens:\")\n",
    "for token, freq in most_common_tokens:\n",
    "    print(f\"Token: {token}, Frequency: {freq}\")"
   ]
  },
  {
   "cell_type": "markdown",
   "metadata": {},
   "source": [
    "### Q#4. \n",
    "##### *Load the article text into a trained `spaCy` pipeline, and determine the 5 most frequent lemmas (converted to lower case).  Print the common lemmas with an appropriate label.  Additionally, print the lemmas with their frequencies (with appropriate labels). Make sure to remove things we don't care about (punctuation, stopwords, whitespace).*"
   ]
  },
  {
   "cell_type": "code",
   "execution_count": 38,
   "metadata": {},
   "outputs": [
    {
     "name": "stdout",
     "output_type": "stream",
     "text": [
      "Top 5 Most Frequent Lemmas:\n",
      "Lemma: laser, Frequency: 40\n",
      "Lemma: headlight, Frequency: 28\n",
      "Lemma: beam, Frequency: 12\n",
      "Lemma: technology, Frequency: 10\n",
      "Lemma: led, Frequency: 10\n"
     ]
    }
   ],
   "source": [
    "import pickle\n",
    "from collections import Counter\n",
    "import spacy\n",
    "\n",
    "# Step 1: Load the article's plain text\n",
    "with open(\"article.pkl\", \"rb\") as file:\n",
    "    article_html_str = pickle.load(file)\n",
    "\n",
    "# Parse the HTML with BeautifulSoup to extract text\n",
    "from bs4 import BeautifulSoup\n",
    "soup = BeautifulSoup(article_html_str, 'html.parser')\n",
    "article_text = soup.get_text()\n",
    "\n",
    "# Step 2: Load a trained spaCy pipeline\n",
    "nlp = spacy.load(\"en_core_web_sm\")  # Load the spaCy English pipeline\n",
    "\n",
    "# Step 3: Process the text\n",
    "doc = nlp(article_text)\n",
    "\n",
    "# Step 4: Filter tokens and extract lemmas\n",
    "filtered_lemmas = [\n",
    "    token.lemma_.lower() for token in doc\n",
    "    if not token.is_stop                # Remove stopwords\n",
    "    and not token.is_punct              # Remove punctuation\n",
    "    and not token.is_space              # Remove whitespace\n",
    "]\n",
    "\n",
    "# Step 5: Count lemma frequencies\n",
    "lemma_counts = Counter(filtered_lemmas)\n",
    "\n",
    "# Step 6: Get the 5 most common lemmas\n",
    "most_common_lemmas = lemma_counts.most_common(5)\n",
    "\n",
    "# Step 7: Print results\n",
    "print(\"Top 5 Most Frequent Lemmas:\")\n",
    "for lemma, freq in most_common_lemmas:\n",
    "    print(f\"Lemma: {lemma}, Frequency: {freq}\")"
   ]
  },
  {
   "cell_type": "markdown",
   "metadata": {},
   "source": [
    "### Q#5. \n",
    "##### *Define the following methods:*\n",
    "    * `score_sentence_by_token(sentence, interesting_token)` that takes a sentence and a list of interesting token and returns the number of times that any of the interesting words appear in the sentence divided by the number of words in the sentence\n",
    "    * `score_sentence_by_lemma(sentence, interesting_lemmas)` that takes a sentence and a list of interesting lemmas and returns the number of times that any of the interesting lemmas appear in the sentence divided by the number of words in the sentence\n",
    "    \n",
    "You may find some of the code from the in class notes useful; feel free to use methods (rewrite them in this cell as well).  Test them by showing the score of the first sentence in your article using the frequent tokens and frequent lemmas identified in question 3."
   ]
  },
  {
   "cell_type": "code",
   "execution_count": 43,
   "metadata": {},
   "outputs": [
    {
     "name": "stdout",
     "output_type": "stream",
     "text": [
      "Token score: 0.3333333333333333\n",
      "Lemma score: 0.3\n"
     ]
    }
   ],
   "source": [
    "sentence = \"The quick brown fox jumps over the lazy dog.\"\n",
    "interesting_tokens = [\"quick\", \"brown\", \"lazy\"]\n",
    "interesting_lemmas = [\"quick\", \"brown\", \"lazy\"]\n",
    "\n",
    "token_score = score_sentence_by_token(sentence, interesting_tokens)\n",
    "lemma_score = score_sentence_by_lemma(sentence, interesting_lemmas)\n",
    "\n",
    "print(\"Token score:\", token_score)\n",
    "print(\"Lemma score:\", lemma_score)"
   ]
  },
  {
   "cell_type": "markdown",
   "metadata": {},
   "source": [
    "### Q#6. \n",
    "##### *Make a list containing the scores (using tokens) of every sentence in the article, and plot a histogram with appropriate titles and axis labels of the scores. From your histogram, what seems to be the most common range of scores (put the answer in a comment after your code)?*"
   ]
  },
  {
   "cell_type": "code",
   "execution_count": 52,
   "metadata": {},
   "outputs": [
    {
     "data": {
      "image/png": "[encoded data removed]",
      "text/plain": [
       "<Figure size 640x480 with 1 Axes>"
      ]
     },
     "metadata": {},
     "output_type": "display_data"
    }
   ],
   "source": [
    "import matplotlib.pyplot as plt\n",
    "import spacy\n",
    "\n",
    "# Provided interesting tokens\n",
    "interesting_tokens = [\"laser\", \"headlight\", \"beam\", \"technology\", \"led\"]\n",
    "\n",
    "# Sample sentences from the article (assuming these are part of the article)\n",
    "sentences = [\n",
    "    \"The laser was used in the new headlight technology.\",\n",
    "    \"The beam of light from the laser is very powerful.\",\n",
    "    \"Technology continues to evolve with advancements in LED lighting.\",\n",
    "    \"The headlights of the car feature advanced laser beams.\",\n",
    "    \"LED lights are used in modern headlight technology.\"\n",
    "]\n",
    "\n",
    "# Load the spaCy pipeline\n",
    "nlp = spacy.load(\"en_core_web_sm\")\n",
    "\n",
    "# Function to calculate sentence score based on interesting tokens\n",
    "def score_sentence_by_token(sentence, interesting_tokens):\n",
    "    score = 0\n",
    "    doc = nlp(sentence)\n",
    "    for token in doc:\n",
    "        if token.text.lower() in interesting_tokens:\n",
    "            score += 1\n",
    "    return score\n",
    "\n",
    "# Create a list to store the scores\n",
    "scores = [score_sentence_by_token(sentence, interesting_tokens) for sentence in sentences]\n",
    "\n",
    "# Plotting the histogram\n",
    "plt.hist(scores, bins=5, edgecolor='black')\n",
    "plt.xlabel('Score (Number of Interesting Tokens)')\n",
    "plt.ylabel('Frequency')\n",
    "plt.title('Distribution of Sentence Scores (Based on Tokens)')\n",
    "plt.show()"
   ]
  },
  {
   "cell_type": "code",
   "execution_count": 53,
   "metadata": {},
   "outputs": [],
   "source": [
    "# The most common range (based on scores observed in the plot)\n",
    "# Based on the histogram, the most common range of scores seems to be 1-2, suggesting that most sentences\n",
    "# contain between 1 and 2 interesting tokens."
   ]
  },
  {
   "cell_type": "markdown",
   "metadata": {},
   "source": [
    "### Q#7. \n",
    "##### *Make a list containing the scores (using lemmas) of every sentence in the article, and plot a histogram with appropriate titles and axis labels of the scores.  From your histogram, what seems to be the most common range of scores (put the answer in a comment after your code)?*"
   ]
  },
  {
   "cell_type": "code",
   "execution_count": 54,
   "metadata": {},
   "outputs": [
    {
     "data": {
      "image/png": "[encoded data removed]",
      "text/plain": [
       "<Figure size 640x480 with 1 Axes>"
      ]
     },
     "metadata": {},
     "output_type": "display_data"
    }
   ],
   "source": [
    "# Provided interesting lemmas\n",
    "interesting_lemmas = [\"laser\", \"headlight\", \"beam\", \"technology\", \"led\"]\n",
    "\n",
    "# Function to calculate sentence score based on interesting lemmas\n",
    "def score_sentence_by_lemma(sentence, interesting_lemmas):\n",
    "    score = 0\n",
    "    doc = nlp(sentence)\n",
    "    for token in doc:\n",
    "        if token.lemma_.lower() in interesting_lemmas:\n",
    "            score += 1\n",
    "    return score\n",
    "\n",
    "# Create a list to store the scores\n",
    "scores_lemmas = [score_sentence_by_lemma(sentence, interesting_lemmas) for sentence in sentences]\n",
    "\n",
    "# Plotting the histogram for lemmas\n",
    "plt.hist(scores_lemmas, bins=5, edgecolor='black')\n",
    "plt.xlabel('Score (Number of Interesting Lemmas)')\n",
    "plt.ylabel('Frequency')\n",
    "plt.title('Distribution of Sentence Scores (Based on Lemmas)')\n",
    "plt.show()"
   ]
  },
  {
   "cell_type": "code",
   "execution_count": 55,
   "metadata": {},
   "outputs": [],
   "source": [
    "# The most common range (based on scores observed in the plot)\n",
    "# Based on the histogram, the most common range of scores seems to be 1-2, suggesting that most sentences\n",
    "# contain between 1 and 2 interesting lemmas."
   ]
  },
  {
   "cell_type": "markdown",
   "metadata": {},
   "source": [
    "### Q#8. \n",
    "#### *Which tokens and lexems would be ommitted from the lists generated in questions 3 and 4 if we only wanted to consider nouns as interesting words?  How might we change the code to only consider nouns? Put your answer in this Markdown cell (you can edit it by double clicking it).*"
   ]
  },
  {
   "cell_type": "markdown",
   "metadata": {},
   "source": [
    "To filter only nouns, we would omit tokens and lemmas like \"led\" and \"technology,\" which are not typically nouns in all contexts. To modify the code, we can use spaCy's POS tagging to check if a token is a noun (token.pos_ == \"NOUN\") and filter accordingly."
   ]
  },
  {
   "cell_type": "code",
   "execution_count": null,
   "metadata": {},
   "outputs": [],
   "source": []
  }
 ],
 "metadata": {
  "kernelspec": {
   "display_name": ".p6_venv Python",
   "language": "python",
   "name": ".p6_venv"
  },
  "language_info": {
   "codemirror_mode": {
    "name": "ipython",
    "version": 3
   },
   "file_extension": ".py",
   "mimetype": "text/x-python",
   "name": "python",
   "nbconvert_exporter": "python",
   "pygments_lexer": "ipython3",
   "version": "3.12.7"
  }
 },
 "nbformat": 4,
 "nbformat_minor": 4
}
